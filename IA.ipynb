{
 "cells": [
  {
   "cell_type": "code",
   "execution_count": 1,
   "metadata": {
    "scrolled": true
   },
   "outputs": [],
   "source": [
    "import numpy as np\n",
    "import pandas as pd\n",
    "from matplotlib import pyplot as plt"
   ]
  },
  {
   "attachments": {},
   "cell_type": "markdown",
   "metadata": {},
   "source": [
    "### Funcions útils"
   ]
  },
  {
   "cell_type": "code",
   "execution_count": 2,
   "metadata": {},
   "outputs": [],
   "source": [
    "def imprimeix_imatge(image):\n",
    "    pixels = image.reshape((28, 28))\n",
    "    plt.imshow(pixels, cmap='Greys')\n",
    "    plt.axis('off')\n",
    "    plt.show()\n",
    "\n",
    "def sigmoide(x):\n",
    "    return 1/(1 + np.exp(-x))\n",
    "\n",
    "def softmax(x):\n",
    "    exp = np.exp(x - np.max(x))\n",
    "    return exp / exp.sum(axis=0)\n",
    "\n",
    "# derivada de relu\n",
    "def d_sigmoide(x):\n",
    "    return sigmoide(x) * (1-sigmoide(x))"
   ]
  },
  {
   "attachments": {},
   "cell_type": "markdown",
   "metadata": {},
   "source": [
    "### LLegir dades i processar-les"
   ]
  },
  {
   "cell_type": "code",
   "execution_count": 3,
   "metadata": {},
   "outputs": [
    {
     "data": {
      "text/plain": [
       "array([[4, 0, 0, ..., 0, 0, 0],\n",
       "       [9, 0, 0, ..., 0, 0, 0],\n",
       "       [4, 0, 0, ..., 0, 0, 0],\n",
       "       ...,\n",
       "       [0, 0, 0, ..., 0, 0, 0],\n",
       "       [4, 0, 0, ..., 0, 0, 0],\n",
       "       [3, 0, 0, ..., 0, 0, 0]], dtype=int64)"
      ]
     },
     "execution_count": 3,
     "metadata": {},
     "output_type": "execute_result"
    }
   ],
   "source": [
    "entrenament = pd.read_csv(\"train.csv\").to_numpy()\n",
    "prova = pd.read_csv(\"test.csv\").to_numpy()\n",
    "np.random.shuffle(entrenament)\n",
    "entrenament"
   ]
  },
  {
   "cell_type": "code",
   "execution_count": 11,
   "metadata": {},
   "outputs": [
    {
     "data": {
      "image/png": "[encoded data removed]",
      "text/plain": [
       "<Figure size 640x480 with 1 Axes>"
      ]
     },
     "metadata": {},
     "output_type": "display_data"
    },
    {
     "data": {
      "text/plain": [
       "4"
      ]
     },
     "execution_count": 11,
     "metadata": {},
     "output_type": "execute_result"
    }
   ],
   "source": [
    "def processa_imatges(imatges):\n",
    "    imatges = (imatges-np.min(imatges))/(np.max(imatges)-np.min(imatges))\n",
    "    imatges = imatges.T\n",
    "    return imatges\n",
    "\n",
    "entrenament_digits = entrenament[:, 0]\n",
    "entrenament_imatges = processa_imatges(entrenament[:, 1:])\n",
    "prova_imatges = processa_imatges(prova)\n",
    "imprimeix_imatge(entrenament_imatges.T[0])\n",
    "entrenament_digits[0]"
   ]
  },
  {
   "cell_type": "code",
   "execution_count": 16,
   "metadata": {},
   "outputs": [],
   "source": [
    "def valors_inicials(dimesnisons):\n",
    "    W_l = []\n",
    "    b_l = []\n",
    "    for i in range(len(dimesnisons)-1):\n",
    "        W_l.append(np.random.randn(dimesnisons[i+1], dimesnisons[i]))\n",
    "    for dimenió in dimesnisons[1:]:\n",
    "        b_l.append(np.random.randn(dimenió, 1))\n",
    "\n",
    "    return W_l, b_l"
   ]
  },
  {
   "cell_type": "code",
   "execution_count": 31,
   "metadata": {},
   "outputs": [
    {
     "data": {
      "text/plain": [
       "([array([[ -2.88766285,  -5.10462976,   5.20487309, ...,   1.6605802 ,\n",
       "           -7.72402201, -11.09564002],\n",
       "         [ -9.71232681,   0.24828819, -19.65057366, ...,  -8.15053511,\n",
       "          -14.14062975,  -8.47583434],\n",
       "         [  4.07307707,   2.97285866,  -8.8983859 , ...,  -2.89339732,\n",
       "            7.14949747,   0.89729246],\n",
       "         ...,\n",
       "         [ -3.36653562,  -5.80902483, -24.44720137, ..., -12.06508316,\n",
       "            7.07547742,  -8.78680695],\n",
       "         [ -3.60859493,  -8.09414022,   0.60366557, ...,  -0.55515   ,\n",
       "            0.14223506,   6.65155116],\n",
       "         [ -2.42946513,   2.33800018,   8.60837678, ...,   6.02792596,\n",
       "           13.62433388,  -0.09550175]]),\n",
       "  array([[ 3.75953201,  2.57625092,  1.15836943, ..., -0.34846879,\n",
       "           3.98219675,  3.27846513],\n",
       "         [ 3.1202538 ,  1.96902865, -0.55211281, ...,  1.36846627,\n",
       "           0.20890306,  2.11571347],\n",
       "         [-1.16388219, -0.78861684,  1.34209903, ...,  1.06712175,\n",
       "           2.52085086,  1.62301122],\n",
       "         ...,\n",
       "         [ 2.8818777 ,  2.60006253, -1.24678887, ...,  1.39723869,\n",
       "           0.30641516, -0.0208337 ],\n",
       "         [ 0.12278748,  1.39967173, -1.013368  , ..., -0.51789757,\n",
       "           0.61470312,  1.66628646],\n",
       "         [ 1.9824491 ,  4.95523829, -0.16547918, ...,  2.42280314,\n",
       "          -0.69432635, -1.20404001]])],\n",
       " [array([[5.27668129e-02, 6.03197974e-03, 9.94540226e-01, ...,\n",
       "          8.40315873e-01, 4.41883629e-04, 1.51781267e-05],\n",
       "         [6.05290378e-05, 5.61755121e-01, 2.92323879e-09, ...,\n",
       "          2.88497640e-04, 7.22440718e-07, 2.08401769e-04],\n",
       "         [9.83260075e-01, 9.51332800e-01, 1.36590590e-04, ...,\n",
       "          5.24809242e-02, 9.99215358e-01, 7.10392785e-01],\n",
       "         ...,\n",
       "         [3.33578377e-02, 2.99137929e-03, 2.41387817e-11, ...,\n",
       "          5.75702955e-06, 9.99155126e-01, 1.52711555e-04],\n",
       "         [2.63753775e-02, 3.05229840e-04, 6.46494482e-01, ...,\n",
       "          3.64670398e-01, 5.35498937e-01, 9.98709651e-01],\n",
       "         [8.09532529e-02, 9.11975680e-01, 9.99817463e-01, ...,\n",
       "          9.97595308e-01, 9.99998789e-01, 4.76142694e-01]]),\n",
       "  array([[0.40764403, 0.06685439, 0.26912307, ..., 0.02576928, 0.57712867,\n",
       "          0.44734988],\n",
       "         [0.21510281, 0.03642643, 0.04865169, ..., 0.14346887, 0.01326026,\n",
       "          0.13985265],\n",
       "         [0.00296531, 0.00231093, 0.32340272, ..., 0.10614155, 0.13384994,\n",
       "          0.08544621],\n",
       "         ...,\n",
       "         [0.16948086, 0.06846541, 0.02428868, ..., 0.14765678, 0.01461844,\n",
       "          0.01651125],\n",
       "         [0.01073651, 0.02061333, 0.03067449, ..., 0.02175306, 0.01989705,\n",
       "          0.0892251 ],\n",
       "         [0.06894516, 0.72162411, 0.07161612, ..., 0.4117659 , 0.00537384,\n",
       "          0.00505732]])])"
      ]
     },
     "execution_count": 31,
     "metadata": {},
     "output_type": "execute_result"
    }
   ],
   "source": [
    "def propaga(W_l, b_l, imatges):\n",
    "    Z_l = []\n",
    "    A_l = []\n",
    "    # valor inicial depén de imatges i no de A_l\n",
    "    Z_l.append(W_l[0].dot(imatges) + b_l[0])\n",
    "\n",
    "    for i in range(1, len(W_l)):\n",
    "        A_l.append(sigmoide(Z_l[i-1]))\n",
    "        Z_l.append(W_l[i].dot(A_l[i - 1]) + b_l[i])\n",
    "    \n",
    "    A_l.append(softmax(Z_l[-1]))\n",
    "\n",
    "    return Z_l, A_l\n",
    "W_l, b_l = valors_inicials([784, 16, 10])\n",
    "propaga(W_l, b_l, entrenament_imatges)\n"
   ]
  },
  {
   "cell_type": "code",
   "execution_count": 33,
   "metadata": {},
   "outputs": [],
   "source": [
    "def one_hot(digits):\n",
    "    one_hot_digits = np.zeros((digits.shape[0], 10))\n",
    "    for (digit, one_hot_vec) in zip(digits, one_hot_digits):\n",
    "        one_hot_vec[digit] = 1\n",
    "    return one_hot_digits.T"
   ]
  },
  {
   "cell_type": "code",
   "execution_count": 43,
   "metadata": {},
   "outputs": [
    {
     "data": {
      "text/plain": [
       "([array([[0., 0., 0., ..., 0., 0., 0.],\n",
       "         [0., 0., 0., ..., 0., 0., 0.],\n",
       "         [0., 0., 0., ..., 0., 0., 0.],\n",
       "         ...,\n",
       "         [0., 0., 0., ..., 0., 0., 0.],\n",
       "         [0., 0., 0., ..., 0., 0., 0.],\n",
       "         [0., 0., 0., ..., 0., 0., 0.]]),\n",
       "  array([[-7.84608831e-02,  1.34975250e-02, -6.32600206e-03,\n",
       "          -1.14021718e-01, -6.97301360e-02, -1.15084690e-01,\n",
       "          -7.14783251e-03, -1.16501856e-01,  1.55243175e-03,\n",
       "          -1.02767191e-01, -1.43450003e-01, -7.91450202e-02,\n",
       "          -1.05323981e-01, -1.11326465e-01, -2.33448648e-02,\n",
       "          -1.26808376e-01],\n",
       "         [-1.90636914e-01, -1.39196288e-01, -4.73616150e-03,\n",
       "          -1.38586786e-01, -7.64029814e-03, -5.21658358e-02,\n",
       "          -3.91590081e-02, -1.44330080e-01, -2.09960274e-01,\n",
       "          -2.26417092e-02, -1.10055651e-01, -1.01631817e-01,\n",
       "          -2.04631308e-01, -1.28819296e-01, -8.55966188e-02,\n",
       "          -2.01899354e-01],\n",
       "         [-1.47521473e-01, -3.07166238e-02, -7.87076881e-03,\n",
       "          -1.18329465e-01, -5.76170792e-03, -1.04030878e-01,\n",
       "           6.99511671e-03, -1.16403152e-01, -1.10807034e-01,\n",
       "          -7.20877141e-02, -7.95616715e-02, -1.36985313e-01,\n",
       "          -1.49633923e-01, -1.37376938e-01, -1.65611470e-02,\n",
       "          -1.49409566e-01],\n",
       "         [-5.32678103e-02,  1.69390693e-02,  1.35748760e-02,\n",
       "          -2.50124945e-03, -1.13573260e-04,  3.65641491e-02,\n",
       "          -2.41079498e-03,  3.84904893e-02,  3.66355003e-02,\n",
       "           1.88545629e-02, -3.10515532e-02, -4.06436789e-02,\n",
       "          -1.38555744e-02, -8.21057739e-03, -4.27965269e-02,\n",
       "          -2.75644020e-02],\n",
       "         [-1.14043623e-01, -8.19458997e-02, -2.22713982e-02,\n",
       "          -8.29339818e-02,  1.60226979e-03, -1.15589605e-01,\n",
       "           7.29044677e-04, -6.04981278e-02, -1.06208715e-01,\n",
       "          -1.08942824e-01, -2.38184314e-02, -6.66603811e-02,\n",
       "          -9.97636396e-02, -1.29369820e-01, -7.63130636e-02,\n",
       "          -1.09681922e-01],\n",
       "         [ 2.09913536e-02,  7.80719011e-02, -1.47956381e-02,\n",
       "           1.76024729e-02,  3.10286227e-03,  1.03456327e-02,\n",
       "          -1.77479603e-02,  2.95681186e-03,  4.83717109e-02,\n",
       "          -1.57489908e-02, -5.60495471e-02,  1.60340177e-02,\n",
       "           2.13103307e-02,  3.17489780e-03,  2.89210246e-02,\n",
       "           1.67549441e-03],\n",
       "         [-1.81879395e-01, -1.50576477e-02, -3.70271760e-03,\n",
       "          -1.11297233e-01, -2.06294305e-02, -1.45063749e-01,\n",
       "          -1.04488878e-02, -1.64606966e-01, -1.60785315e-01,\n",
       "          -5.83697517e-02, -1.09787285e-01, -1.53811744e-01,\n",
       "          -1.91411467e-01, -1.79038998e-01, -1.84398724e-02,\n",
       "          -1.87037409e-01],\n",
       "         [-1.79484330e-01, -1.04494451e-01, -7.20286995e-02,\n",
       "          -1.05980605e-01, -6.87277055e-02, -6.48775891e-02,\n",
       "          -5.01629164e-03, -4.66023281e-02, -1.76018683e-01,\n",
       "          -1.56693783e-01, -1.16200094e-01, -4.27157911e-02,\n",
       "          -1.58499487e-01, -1.94475330e-01, -6.64935221e-02,\n",
       "          -1.94429089e-01],\n",
       "         [-1.68038200e-01, -8.50218161e-02, -3.44602907e-02,\n",
       "          -1.26134085e-01, -2.29530698e-03, -1.01718205e-01,\n",
       "          -5.06155070e-03, -1.45895969e-01, -1.57656332e-01,\n",
       "          -1.21402088e-01, -1.23026200e-01, -8.88807859e-02,\n",
       "          -1.77270367e-01, -1.74489100e-01, -8.40298269e-02,\n",
       "          -1.73564888e-01],\n",
       "         [ 1.09234127e+00,  3.47924230e-01,  1.52616800e-01,\n",
       "           7.82182651e-01,  1.70193026e-01,  6.51620770e-01,\n",
       "           7.92681647e-02,  7.53391178e-01,  8.34876710e-01,\n",
       "           6.39799489e-01,  7.93000436e-01,  6.94440514e-01,\n",
       "           1.07907942e+00,  1.05993163e+00,  3.84654418e-01,\n",
       "           1.16871951e+00]])],\n",
       " [array([ 0.09192216,  0.01581054,  0.01290113,  0.01899131,  0.0157603 ,\n",
       "          0.16641886, -0.00743301, -0.05114786, -0.06532175,  0.07021443,\n",
       "          0.05098056, -0.00256335,  0.04451618,  0.07578655, -0.0017777 ,\n",
       "          0.01541732]),\n",
       "  array([-0.12129902, -0.21765269, -0.15334678, -0.01726668, -0.11863353,\n",
       "          0.01354765, -0.19591491, -0.1974475 , -0.19252086,  1.20053433])])"
      ]
     },
     "execution_count": 43,
     "metadata": {},
     "output_type": "execute_result"
    }
   ],
   "source": [
    "def retropropaga(Z_l, A_l, W_l, b_l, digits, imatges):\n",
    "    tamany, m = imatges.shape\n",
    "    delta_l = [None] * len(W_l)\n",
    "    dW_l = [None] * len(W_l)\n",
    "    db_l = [None] * len(b_l)\n",
    "\n",
    "    delta_l[-1] = 2*(A_l[-1] - one_hot(digits))\n",
    "\n",
    "    for i in range(len(W_l) - 1, 0, -1): # desde (len(W_l) -1) (inclusiu) fins 0 (exclusiu)\n",
    "        dW_l[i] = 1/m * (delta_l[i].dot(A_l[i - 1].T))\n",
    "        db_l[i] = 1/m * (np.sum(delta_l[i], 1))\n",
    "\n",
    "        delta_l[i - 1] = W_l[i].T.dot(delta_l[i]) * d_sigmoide(Z_l[i - 1])\n",
    "    \n",
    "    dW_l[0] = 1/m * (delta_l[0].dot(imatges.T))\n",
    "    db_l[0] = 1/m * (np.sum(delta_l[0], 1))\n",
    "\n",
    "    return dW_l, db_l\n",
    "\n",
    "W_l, b_l = valors_inicials([784, 16, 10])\n",
    "Z_l, A_l = propaga(W_l, b_l, entrenament_imatges)\n",
    "retropropaga(Z_l, A_l, W_l, b_l, entrenament_digits, entrenament_imatges)"
   ]
  },
  {
   "cell_type": "code",
   "execution_count": 49,
   "metadata": {},
   "outputs": [
    {
     "data": {
      "text/plain": [
       "([array([[ 1.13682166,  0.19495093, -1.50270072, ...,  1.79219828,\n",
       "           0.53595962, -0.81410941],\n",
       "         [-0.53685879, -0.91221462,  0.84201056, ...,  0.97548302,\n",
       "          -1.09679479,  0.50927646],\n",
       "         [ 0.50427793, -0.29250935,  0.90841808, ..., -0.51792096,\n",
       "          -0.83525951, -0.25538622],\n",
       "         ...,\n",
       "         [-1.34048947,  2.0727474 ,  1.36418382, ..., -0.23798971,\n",
       "           0.73440256,  2.83380986],\n",
       "         [ 1.49422351, -1.29250535,  2.34655912, ...,  0.25077876,\n",
       "           0.53272694, -1.14844243],\n",
       "         [ 1.15532978,  1.50939699,  0.61429489, ..., -0.54896814,\n",
       "          -0.16595548,  0.55206375]]),\n",
       "  array([[ 0.13278469,  0.76173717,  1.04876164, -0.36498918,  0.60612984,\n",
       "          -0.18603331, -0.27165196, -0.19986834,  0.4514221 ,  1.09471384,\n",
       "           2.6425137 ,  0.05877807, -0.58516323,  0.94694565, -1.41726168,\n",
       "          -1.31588338],\n",
       "         [-0.090131  , -1.46241227,  0.67792089,  0.04375378,  1.70960282,\n",
       "           1.39666841,  0.35525364, -1.25749836, -0.18066204,  1.16198666,\n",
       "          -0.65012209, -1.26601639,  1.15763103,  0.88534188, -0.15398115,\n",
       "           0.74863732],\n",
       "         [-0.08908758,  0.75689418,  1.33592703, -0.72878291,  0.10691804,\n",
       "           0.59155875, -1.58722606, -1.06699384,  0.39244085, -0.0763874 ,\n",
       "          -0.31045986, -0.14061799,  1.32588282, -0.93206542,  1.12377101,\n",
       "          -0.98781104],\n",
       "         [-0.9117019 , -0.43079116, -0.66897458,  0.95445125,  0.9697915 ,\n",
       "          -0.04279419, -1.06226488, -0.92823918,  0.04443493,  1.93860904,\n",
       "           1.08456919,  0.15559992, -0.4810916 ,  0.24553501,  0.43258342,\n",
       "          -2.88648684],\n",
       "         [ 1.34414243, -0.40619475,  2.04386191,  1.52050614,  0.41367956,\n",
       "           0.98591233,  1.79485433, -1.88498629, -0.83879851, -1.30261207,\n",
       "          -0.53810022,  0.2961451 , -0.34403972,  1.31327149, -0.1598057 ,\n",
       "          -0.90646257],\n",
       "         [-1.28147597, -0.81317171, -0.85248605, -0.92729281, -1.5712378 ,\n",
       "          -2.33417873,  0.43397947, -0.03162222,  2.52030648,  1.02305089,\n",
       "           0.39556461,  1.02696052,  0.15618975,  0.22196787,  0.61125412,\n",
       "           0.24538222],\n",
       "         [-0.29622562, -1.46783501, -0.10482929,  1.04335943, -0.10939178,\n",
       "          -0.10113073, -1.11179512,  0.22168716, -0.2167901 ,  1.53925828,\n",
       "          -1.57074694, -0.3279058 , -1.18940677, -0.05999177, -1.2659816 ,\n",
       "          -1.88611521],\n",
       "         [-1.21216508,  1.09520292, -1.99806351, -0.54127703, -1.00158559,\n",
       "           0.86856439,  1.22219133, -0.03585738, -1.08870591, -0.60442242,\n",
       "           0.01521186, -0.8810534 ,  0.33278678,  0.26524587, -1.62104346,\n",
       "          -0.60642976],\n",
       "         [ 0.48236441,  0.33364271, -0.93268902, -1.49495783,  1.89103614,\n",
       "          -0.15503134, -0.560128  , -1.12999571, -0.7181087 ,  0.72831074,\n",
       "          -1.89754012, -0.89887615,  0.19401439,  0.53484045,  0.40598299,\n",
       "           0.20480816],\n",
       "         [-1.11765337,  0.04067324,  0.35507841,  1.46693725, -1.55312188,\n",
       "           1.27775529, -1.17032182, -1.21913698, -0.24437754,  0.24745813,\n",
       "          -1.25078805, -2.72351053,  0.76132067,  1.20621265,  0.12683622,\n",
       "           0.51321402]])],\n",
       " [array([[-0.17450631],\n",
       "         [-1.433065  ],\n",
       "         [ 2.0172229 ],\n",
       "         [ 1.13291445],\n",
       "         [ 1.93750218],\n",
       "         [ 0.10043568],\n",
       "         [-0.0838484 ],\n",
       "         [ 1.40889425],\n",
       "         [-0.59796336],\n",
       "         [ 1.3498137 ],\n",
       "         [-0.52550844],\n",
       "         [-1.06490563],\n",
       "         [-0.43793767],\n",
       "         [ 0.77220957],\n",
       "         [ 0.49307053],\n",
       "         [ 1.34375327]]),\n",
       "  array([[-0.73767209],\n",
       "         [-1.18998037],\n",
       "         [-1.56230004],\n",
       "         [ 1.90811405],\n",
       "         [ 0.49685513],\n",
       "         [ 0.01385439],\n",
       "         [-0.51359266],\n",
       "         [ 1.56977555],\n",
       "         [-0.48209148],\n",
       "         [ 0.20578538]])])"
      ]
     },
     "execution_count": 49,
     "metadata": {},
     "output_type": "execute_result"
    }
   ],
   "source": [
    "def actualitza_paràmetres(W_l, b_l, dW_l, db_l, alfa):\n",
    "    W_l = [ W - dW * alfa for (W, dW) in zip(W_l, dW_l) ]\n",
    "    b_l = [ b - np.reshape(db, b.shape) * alfa for (b, db) in zip(b_l, db_l) ]\n",
    "\n",
    "    return W_l, b_l\n",
    "\n",
    "W_l, b_l = valors_inicials([784, 16, 10])\n",
    "Z_l, A_l = propaga(W_l, b_l, entrenament_imatges)\n",
    "dW_l, db_l = retropropaga(Z_l, A_l, W_l, b_l, entrenament_digits, entrenament_imatges)\n",
    "actualitza_paràmetres(W_l, b_l, dW_l, db_l, 0.1)"
   ]
  },
  {
   "cell_type": "code",
   "execution_count": 50,
   "metadata": {},
   "outputs": [
    {
     "name": "stdout",
     "output_type": "stream",
     "text": [
      "Iteració: 8160, precisió: 91.04%\r"
     ]
    },
    {
     "ename": "KeyboardInterrupt",
     "evalue": "",
     "output_type": "error",
     "traceback": [
      "\u001b[1;31m---------------------------------------------------------------------------\u001b[0m",
      "\u001b[1;31mKeyboardInterrupt\u001b[0m                         Traceback (most recent call last)",
      "Cell \u001b[1;32mIn[50], line 9\u001b[0m\n\u001b[0;32m      6\u001b[0m \u001b[39miter\u001b[39m \u001b[39m+\u001b[39m\u001b[39m=\u001b[39m \u001b[39m1\u001b[39m\n\u001b[0;32m      8\u001b[0m Z_l, A_l \u001b[39m=\u001b[39m propaga(W_l, b_l, entrenament_imatges)\n\u001b[1;32m----> 9\u001b[0m dW_l, db_l \u001b[39m=\u001b[39m retropropaga(Z_l, A_l, W_l, b_l, entrenament_digits, entrenament_imatges)\n\u001b[0;32m     11\u001b[0m W_l, b_l \u001b[39m=\u001b[39m actualitza_paràmetres(W_l, b_l, dW_l, db_l, alfa)\n\u001b[0;32m     13\u001b[0m precisió \u001b[39m=\u001b[39m np\u001b[39m.\u001b[39msum(np\u001b[39m.\u001b[39margmax(A_l[\u001b[39m-\u001b[39m\u001b[39m1\u001b[39m], \u001b[39m0\u001b[39m) \u001b[39m==\u001b[39m entrenament_digits)\u001b[39m/\u001b[39mentrenament_digits\u001b[39m.\u001b[39msize\n",
      "Cell \u001b[1;32mIn[43], line 9\u001b[0m, in \u001b[0;36mretropropaga\u001b[1;34m(Z_l, A_l, W_l, b_l, digits, imatges)\u001b[0m\n\u001b[0;32m      5\u001b[0m db_l \u001b[39m=\u001b[39m [\u001b[39mNone\u001b[39;00m] \u001b[39m*\u001b[39m \u001b[39mlen\u001b[39m(b_l)\n\u001b[0;32m      7\u001b[0m delta_l[\u001b[39m-\u001b[39m\u001b[39m1\u001b[39m] \u001b[39m=\u001b[39m \u001b[39m2\u001b[39m\u001b[39m*\u001b[39m(A_l[\u001b[39m-\u001b[39m\u001b[39m1\u001b[39m] \u001b[39m-\u001b[39m one_hot(digits))\n\u001b[1;32m----> 9\u001b[0m \u001b[39mfor\u001b[39;00m i \u001b[39min\u001b[39;00m \u001b[39mrange\u001b[39m(\u001b[39mlen\u001b[39;49m(W_l) \u001b[39m-\u001b[39m \u001b[39m1\u001b[39m, \u001b[39m0\u001b[39m, \u001b[39m-\u001b[39m\u001b[39m1\u001b[39m): \u001b[39m# desde (len(W_l) -1) (inclusiu) fins 0 (exclusiu)\u001b[39;00m\n\u001b[0;32m     10\u001b[0m     dW_l[i] \u001b[39m=\u001b[39m \u001b[39m1\u001b[39m\u001b[39m/\u001b[39mm \u001b[39m*\u001b[39m (delta_l[i]\u001b[39m.\u001b[39mdot(A_l[i \u001b[39m-\u001b[39m \u001b[39m1\u001b[39m]\u001b[39m.\u001b[39mT))\n\u001b[0;32m     11\u001b[0m     db_l[i] \u001b[39m=\u001b[39m \u001b[39m1\u001b[39m\u001b[39m/\u001b[39mm \u001b[39m*\u001b[39m (np\u001b[39m.\u001b[39msum(delta_l[i], \u001b[39m1\u001b[39m))\n",
      "\u001b[1;31mKeyboardInterrupt\u001b[0m: "
     ]
    }
   ],
   "source": [
    "precisió = 0\n",
    "alfa = 0.15\n",
    "iter = 0\n",
    "W_l, b_l = valors_inicials([784, 16, 10])\n",
    "while alfa < 0.9:\n",
    "    iter += 1\n",
    "\n",
    "    Z_l, A_l = propaga(W_l, b_l, entrenament_imatges)\n",
    "    dW_l, db_l = retropropaga(Z_l, A_l, W_l, b_l, entrenament_digits, entrenament_imatges)\n",
    "\n",
    "    W_l, b_l = actualitza_paràmetres(W_l, b_l, dW_l, db_l, alfa)\n",
    "\n",
    "    precisió = np.sum(np.argmax(A_l[-1], 0) == entrenament_digits)/entrenament_digits.size\n",
    "    if (iter % 10 == 0):\n",
    "        print(f\"Iteració: {iter}, precisió: {precisió*100:.2f}%\", end=\"\\r\")"
   ]
  },
  {
   "cell_type": "code",
   "execution_count": 1,
   "metadata": {},
   "outputs": [
    {
     "ename": "NameError",
     "evalue": "name 'propaga' is not defined",
     "output_type": "error",
     "traceback": [
      "\u001b[1;31m---------------------------------------------------------------------------\u001b[0m",
      "\u001b[1;31mNameError\u001b[0m                                 Traceback (most recent call last)",
      "Cell \u001b[1;32mIn[1], line 1\u001b[0m\n\u001b[1;32m----> 1\u001b[0m _, _, _, a2 \u001b[38;5;241m=\u001b[39m \u001b[43mpropaga\u001b[49m(prova_imatges)\n\u001b[0;32m      2\u001b[0m imprimeix_imatge(prova_imatges\u001b[38;5;241m.\u001b[39mT[\u001b[38;5;241m8\u001b[39m])\n\u001b[0;32m      3\u001b[0m \u001b[38;5;28mprint\u001b[39m(np\u001b[38;5;241m.\u001b[39margmax(a2, \u001b[38;5;241m0\u001b[39m)[\u001b[38;5;241m8\u001b[39m])\n",
      "\u001b[1;31mNameError\u001b[0m: name 'propaga' is not defined"
     ]
    }
   ],
   "source": [
    "_, _, _, a2 = propaga(prova_imatges)\n",
    "imprimeix_imatge(prova_imatges.T[8])\n",
    "print(np.argmax(a2, 0)[8])"
   ]
  }
 ],
 "metadata": {
  "kernelspec": {
   "display_name": "Python 3 (ipykernel)",
   "language": "python",
   "name": "python3"
  },
  "language_info": {
   "codemirror_mode": {
    "name": "ipython",
    "version": 3
   },
   "file_extension": ".py",
   "mimetype": "text/x-python",
   "name": "python",
   "nbconvert_exporter": "python",
   "pygments_lexer": "ipython3",
   "version": "3.10.9"
  },
  "vscode": {
   "interpreter": {
    "hash": "6634a6ef393c667e54c22054a3771f7fbfd71045bcb04c31d5886c12c4a77a96"
   }
  }
 },
 "nbformat": 4,
 "nbformat_minor": 4
}
