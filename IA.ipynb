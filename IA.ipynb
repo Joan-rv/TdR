{
 "cells": [
  {
   "cell_type": "code",
   "execution_count": 2,
   "metadata": {
    "scrolled": true
   },
   "outputs": [],
   "source": [
    "import numpy as np\n",
    "import pandas as pd\n",
    "from matplotlib import pyplot as plt"
   ]
  },
  {
   "attachments": {},
   "cell_type": "markdown",
   "metadata": {},
   "source": [
    "### Funcions útils"
   ]
  },
  {
   "cell_type": "code",
   "execution_count": 3,
   "metadata": {},
   "outputs": [],
   "source": [
    "def imprimeix_imatge(image):\n",
    "    pixels = image.reshape((28, 28))\n",
    "    plt.imshow(pixels, cmap='Greys')\n",
    "    plt.axis('off')\n",
    "    plt.show()\n",
    "\n",
    "def sigmoide(x):\n",
    "    return 1/(1 + np.exp(-x))\n",
    "\n",
    "def softmax(x):\n",
    "    exp = np.exp(x - np.max(x))\n",
    "    return exp / exp.sum(axis=0)\n",
    "\n",
    "# derivada de relu\n",
    "def d_sigmoide(x):\n",
    "    return sigmoide(x) * (1-sigmoide(x))"
   ]
  },
  {
   "attachments": {},
   "cell_type": "markdown",
   "metadata": {},
   "source": [
    "### LLegir dades i processar-les"
   ]
  },
  {
   "cell_type": "code",
   "execution_count": 4,
   "metadata": {},
   "outputs": [
    {
     "data": {
      "text/plain": [
       "array([[1, 0, 0, ..., 0, 0, 0],\n",
       "       [8, 0, 0, ..., 0, 0, 0],\n",
       "       [7, 0, 0, ..., 0, 0, 0],\n",
       "       ...,\n",
       "       [4, 0, 0, ..., 0, 0, 0],\n",
       "       [3, 0, 0, ..., 0, 0, 0],\n",
       "       [0, 0, 0, ..., 0, 0, 0]], dtype=int64)"
      ]
     },
     "execution_count": 4,
     "metadata": {},
     "output_type": "execute_result"
    }
   ],
   "source": [
    "entrenament = pd.read_csv(\"train.csv\").to_numpy()\n",
    "prova = pd.read_csv(\"test.csv\").to_numpy()\n",
    "np.random.shuffle(entrenament)\n",
    "entrenament"
   ]
  },
  {
   "cell_type": "code",
   "execution_count": 5,
   "metadata": {},
   "outputs": [
    {
     "data": {
      "image/png": "[encoded data removed]",
      "text/plain": [
       "<Figure size 640x480 with 1 Axes>"
      ]
     },
     "metadata": {},
     "output_type": "display_data"
    },
    {
     "data": {
      "text/plain": [
       "1"
      ]
     },
     "execution_count": 5,
     "metadata": {},
     "output_type": "execute_result"
    }
   ],
   "source": [
    "def processa_imatges(imatges):\n",
    "    imatges = (imatges-np.min(imatges))/(np.max(imatges)-np.min(imatges))\n",
    "    imatges = imatges.T\n",
    "    return imatges\n",
    "\n",
    "entrenament_digits = entrenament[:, 0]\n",
    "entrenament_imatges = processa_imatges(entrenament[:, 1:])\n",
    "prova_imatges = processa_imatges(prova)\n",
    "imprimeix_imatge(entrenament_imatges.T[0])\n",
    "entrenament_digits[0]"
   ]
  },
  {
   "cell_type": "code",
   "execution_count": 6,
   "metadata": {},
   "outputs": [],
   "source": [
    "w1 = np.random.randn(16, 28*28)\n",
    "w2 = np.random.randn(10, 16)\n",
    "b1 = np.random.randn(16, 1)\n",
    "b2 = np.random.randn(10, 1)"
   ]
  },
  {
   "cell_type": "code",
   "execution_count": 7,
   "metadata": {},
   "outputs": [],
   "source": [
    "def propaga(imatges):\n",
    "    z1 = w1.dot(imatges) + b1\n",
    "    a1 = sigmoide(z1)\n",
    "    z2 = w2.dot(a1) + b2\n",
    "    a2 = softmax(z2)\n",
    "    return z1, a1, z2, a2"
   ]
  },
  {
   "cell_type": "code",
   "execution_count": 8,
   "metadata": {},
   "outputs": [
    {
     "data": {
      "text/plain": [
       "array([[3.89301717e-03, 1.16148110e-04, 9.31927618e-03, ...,\n",
       "        4.82135774e-03, 7.40398438e-03, 7.83515426e-04],\n",
       "       [1.23007261e-03, 6.16264642e-04, 7.64172009e-04, ...,\n",
       "        2.31250369e-03, 1.62727112e-02, 5.08803374e-04],\n",
       "       [2.15444315e-04, 4.28488025e-04, 1.24964271e-04, ...,\n",
       "        1.22126149e-05, 1.22154688e-02, 7.31139071e-05],\n",
       "       ...,\n",
       "       [3.13190589e-03, 2.98628998e-04, 1.76844543e-03, ...,\n",
       "        3.79441031e-02, 2.96713309e-03, 1.64611509e-04],\n",
       "       [2.33988954e-01, 5.97251055e-01, 4.84003207e-01, ...,\n",
       "        1.84305452e-01, 4.92399265e-01, 6.27295359e-02],\n",
       "       [6.92924574e-01, 3.05759458e-01, 2.46905467e-01, ...,\n",
       "        5.94209158e-01, 2.40766845e-01, 2.33518009e-01]])"
      ]
     },
     "execution_count": 8,
     "metadata": {},
     "output_type": "execute_result"
    }
   ],
   "source": [
    "propaga(entrenament_imatges)[3]"
   ]
  },
  {
   "cell_type": "code",
   "execution_count": 9,
   "metadata": {},
   "outputs": [],
   "source": [
    "def one_hot(digits):\n",
    "    one_hot_digits = np.zeros((digits.shape[0], 10))\n",
    "    for (digit, one_hot_vec) in zip(digits, one_hot_digits):\n",
    "        one_hot_vec[digit] = 1\n",
    "    return one_hot_digits.T"
   ]
  },
  {
   "cell_type": "code",
   "execution_count": 10,
   "metadata": {},
   "outputs": [],
   "source": [
    "def retropropaga(z1, a1, z2, a2, digits, imatges):\n",
    "    tamany, m = imatges.shape\n",
    "    dz2 = 2*(a2 - one_hot(digits))\n",
    "    dw2 = 1/m * (dz2.dot(a1.T))\n",
    "    db2 = 1/m * (np.sum(dz2, 1))\n",
    "    dz1 = w2.T.dot(dz2)*d_sigmoide(z1)\n",
    "    dw1 = 1/m * (dz1.dot(imatges.T))\n",
    "    db1 = 1/m * np.sum(dz1,1)\n",
    "\n",
    "    return dw1, db1, dw2, db2"
   ]
  },
  {
   "cell_type": "code",
   "execution_count": 11,
   "metadata": {},
   "outputs": [
    {
     "name": "stdout",
     "output_type": "stream",
     "text": [
      "Iteració: 2490, precisió: 85.88%\r"
     ]
    },
    {
     "ename": "KeyboardInterrupt",
     "evalue": "",
     "output_type": "error",
     "traceback": [
      "\u001b[1;31m---------------------------------------------------------------------------\u001b[0m",
      "\u001b[1;31mKeyboardInterrupt\u001b[0m                         Traceback (most recent call last)",
      "Cell \u001b[1;32mIn[11], line 8\u001b[0m\n\u001b[0;32m      5\u001b[0m \u001b[38;5;28miter\u001b[39m \u001b[38;5;241m+\u001b[39m\u001b[38;5;241m=\u001b[39m \u001b[38;5;241m1\u001b[39m\n\u001b[0;32m      7\u001b[0m z1, a1, z2, a2 \u001b[38;5;241m=\u001b[39m propaga(entrenament_imatges)\n\u001b[1;32m----> 8\u001b[0m dw1, db1, dw2, db2 \u001b[38;5;241m=\u001b[39m \u001b[43mretropropaga\u001b[49m\u001b[43m(\u001b[49m\u001b[43mz1\u001b[49m\u001b[43m,\u001b[49m\u001b[43m \u001b[49m\u001b[43ma1\u001b[49m\u001b[43m,\u001b[49m\u001b[43m \u001b[49m\u001b[43mz2\u001b[49m\u001b[43m,\u001b[49m\u001b[43m \u001b[49m\u001b[43ma2\u001b[49m\u001b[43m,\u001b[49m\u001b[43m \u001b[49m\u001b[43mentrenament_digits\u001b[49m\u001b[43m,\u001b[49m\u001b[43m \u001b[49m\u001b[43mentrenament_imatges\u001b[49m\u001b[43m)\u001b[49m\n\u001b[0;32m     10\u001b[0m w1 \u001b[38;5;241m-\u001b[39m\u001b[38;5;241m=\u001b[39m alfa \u001b[38;5;241m*\u001b[39m dw1\n\u001b[0;32m     11\u001b[0m b1 \u001b[38;5;241m-\u001b[39m\u001b[38;5;241m=\u001b[39m alfa \u001b[38;5;241m*\u001b[39m np\u001b[38;5;241m.\u001b[39mreshape(db1, (\u001b[38;5;241m16\u001b[39m,\u001b[38;5;241m1\u001b[39m))\n",
      "Cell \u001b[1;32mIn[10], line 4\u001b[0m, in \u001b[0;36mretropropaga\u001b[1;34m(z1, a1, z2, a2, digits, imatges)\u001b[0m\n\u001b[0;32m      2\u001b[0m tamany, m \u001b[38;5;241m=\u001b[39m imatges\u001b[38;5;241m.\u001b[39mshape\n\u001b[0;32m      3\u001b[0m dz2 \u001b[38;5;241m=\u001b[39m \u001b[38;5;241m2\u001b[39m\u001b[38;5;241m*\u001b[39m(a2 \u001b[38;5;241m-\u001b[39m one_hot(digits))\n\u001b[1;32m----> 4\u001b[0m dw2 \u001b[38;5;241m=\u001b[39m \u001b[38;5;241m1\u001b[39m\u001b[38;5;241m/\u001b[39mm \u001b[38;5;241m*\u001b[39m (dz2\u001b[38;5;241m.\u001b[39mdot(a1\u001b[38;5;241m.\u001b[39mT))\n\u001b[0;32m      5\u001b[0m db2 \u001b[38;5;241m=\u001b[39m \u001b[38;5;241m1\u001b[39m\u001b[38;5;241m/\u001b[39mm \u001b[38;5;241m*\u001b[39m (np\u001b[38;5;241m.\u001b[39msum(dz2, \u001b[38;5;241m1\u001b[39m))\n\u001b[0;32m      6\u001b[0m dz1 \u001b[38;5;241m=\u001b[39m w2\u001b[38;5;241m.\u001b[39mT\u001b[38;5;241m.\u001b[39mdot(dz2)\u001b[38;5;241m*\u001b[39md_sigmoide(z1)\n",
      "\u001b[1;31mKeyboardInterrupt\u001b[0m: "
     ]
    }
   ],
   "source": [
    "precisió = 0\n",
    "alfa = 0.15\n",
    "iter = 0\n",
    "while alfa < 0.9:\n",
    "    iter += 1\n",
    "\n",
    "    z1, a1, z2, a2 = propaga(entrenament_imatges)\n",
    "    dw1, db1, dw2, db2 = retropropaga(z1, a1, z2, a2, entrenament_digits, entrenament_imatges)\n",
    "\n",
    "    w1 -= alfa * dw1\n",
    "    b1 -= alfa * np.reshape(db1, (16,1))\n",
    "    w2 -= alfa * dw2\n",
    "    b2 -= alfa * np.reshape(db2, (10, 1))\n",
    "\n",
    "    precisió = np.sum(np.argmax(a2, 0) == entrenament_digits)/entrenament_digits.size\n",
    "    if (iter % 10 == 0):\n",
    "        print(f\"Iteració: {iter}, precisió: {precisió*100:.2f}%\", end=\"\\r\")"
   ]
  },
  {
   "cell_type": "code",
   "execution_count": 1,
   "metadata": {},
   "outputs": [
    {
     "ename": "NameError",
     "evalue": "name 'propaga' is not defined",
     "output_type": "error",
     "traceback": [
      "\u001b[1;31m---------------------------------------------------------------------------\u001b[0m",
      "\u001b[1;31mNameError\u001b[0m                                 Traceback (most recent call last)",
      "Cell \u001b[1;32mIn[1], line 1\u001b[0m\n\u001b[1;32m----> 1\u001b[0m _, _, _, a2 \u001b[38;5;241m=\u001b[39m \u001b[43mpropaga\u001b[49m(prova_imatges)\n\u001b[0;32m      2\u001b[0m imprimeix_imatge(prova_imatges\u001b[38;5;241m.\u001b[39mT[\u001b[38;5;241m8\u001b[39m])\n\u001b[0;32m      3\u001b[0m \u001b[38;5;28mprint\u001b[39m(np\u001b[38;5;241m.\u001b[39margmax(a2, \u001b[38;5;241m0\u001b[39m)[\u001b[38;5;241m8\u001b[39m])\n",
      "\u001b[1;31mNameError\u001b[0m: name 'propaga' is not defined"
     ]
    }
   ],
   "source": [
    "_, _, _, a2 = propaga(prova_imatges)\n",
    "imprimeix_imatge(prova_imatges.T[8])\n",
    "print(np.argmax(a2, 0)[8])"
   ]
  }
 ],
 "metadata": {
  "kernelspec": {
   "display_name": "Python 3 (ipykernel)",
   "language": "python",
   "name": "python3"
  },
  "language_info": {
   "codemirror_mode": {
    "name": "ipython",
    "version": 3
   },
   "file_extension": ".py",
   "mimetype": "text/x-python",
   "name": "python",
   "nbconvert_exporter": "python",
   "pygments_lexer": "ipython3",
   "version": "3.11.4"
  },
  "vscode": {
   "interpreter": {
    "hash": "6634a6ef393c667e54c22054a3771f7fbfd71045bcb04c31d5886c12c4a77a96"
   }
  }
 },
 "nbformat": 4,
 "nbformat_minor": 4
}
